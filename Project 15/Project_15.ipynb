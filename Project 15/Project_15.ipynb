{
  "nbformat": 4,
  "nbformat_minor": 0,
  "metadata": {
    "colab": {
      "provenance": []
    },
    "kernelspec": {
      "name": "python3",
      "display_name": "Python 3"
    },
    "language_info": {
      "name": "python"
    }
  },
  "cells": [
    {
      "cell_type": "markdown",
      "source": [
        "# **Setting Up the Packages**"
      ],
      "metadata": {
        "id": "8tUTh3uRYEs3"
      }
    },
    {
      "cell_type": "code",
      "execution_count": 1,
      "metadata": {
        "colab": {
          "base_uri": "https://localhost:8080/"
        },
        "id": "-CMaW-WOR7UZ",
        "outputId": "992c1816-775a-444e-965b-db10dbdaf6cf"
      },
      "outputs": [
        {
          "output_type": "stream",
          "name": "stdout",
          "text": [
            "Requirement already satisfied: pandas in /usr/local/lib/python3.11/dist-packages (2.2.2)\n",
            "Requirement already satisfied: matplotlib in /usr/local/lib/python3.11/dist-packages (3.10.0)\n",
            "Requirement already satisfied: numpy>=1.23.2 in /usr/local/lib/python3.11/dist-packages (from pandas) (1.26.4)\n",
            "Requirement already satisfied: python-dateutil>=2.8.2 in /usr/local/lib/python3.11/dist-packages (from pandas) (2.8.2)\n",
            "Requirement already satisfied: pytz>=2020.1 in /usr/local/lib/python3.11/dist-packages (from pandas) (2024.2)\n",
            "Requirement already satisfied: tzdata>=2022.7 in /usr/local/lib/python3.11/dist-packages (from pandas) (2025.1)\n",
            "Requirement already satisfied: contourpy>=1.0.1 in /usr/local/lib/python3.11/dist-packages (from matplotlib) (1.3.1)\n",
            "Requirement already satisfied: cycler>=0.10 in /usr/local/lib/python3.11/dist-packages (from matplotlib) (0.12.1)\n",
            "Requirement already satisfied: fonttools>=4.22.0 in /usr/local/lib/python3.11/dist-packages (from matplotlib) (4.55.5)\n",
            "Requirement already satisfied: kiwisolver>=1.3.1 in /usr/local/lib/python3.11/dist-packages (from matplotlib) (1.4.8)\n",
            "Requirement already satisfied: packaging>=20.0 in /usr/local/lib/python3.11/dist-packages (from matplotlib) (24.2)\n",
            "Requirement already satisfied: pillow>=8 in /usr/local/lib/python3.11/dist-packages (from matplotlib) (11.1.0)\n",
            "Requirement already satisfied: pyparsing>=2.3.1 in /usr/local/lib/python3.11/dist-packages (from matplotlib) (3.2.1)\n",
            "Requirement already satisfied: six>=1.5 in /usr/local/lib/python3.11/dist-packages (from python-dateutil>=2.8.2->pandas) (1.17.0)\n"
          ]
        }
      ],
      "source": [
        "!pip install pandas matplotlib"
      ]
    },
    {
      "cell_type": "markdown",
      "source": [
        "# **Importing Library**"
      ],
      "metadata": {
        "id": "yC-oXdfFYb-a"
      }
    },
    {
      "cell_type": "code",
      "source": [
        "import pandas as pd\n",
        "import matplotlib.pyplot as plt\n",
        "from datetime import datetime\n",
        "import json\n",
        "import os"
      ],
      "metadata": {
        "id": "kMP8h_mdWt_i"
      },
      "execution_count": 2,
      "outputs": []
    },
    {
      "cell_type": "markdown",
      "source": [
        "# **Dataset Upload**"
      ],
      "metadata": {
        "id": "lsnYdDRMYSGa"
      }
    },
    {
      "cell_type": "code",
      "source": [
        "from google.colab import files\n",
        "uploaded = files.upload()"
      ],
      "metadata": {
        "colab": {
          "base_uri": "https://localhost:8080/",
          "height": 73
        },
        "id": "qxw-g99ea6On",
        "outputId": "f37f37e5-79e8-4105-ee8d-338451e31f44"
      },
      "execution_count": 3,
      "outputs": [
        {
          "output_type": "display_data",
          "data": {
            "text/plain": [
              "<IPython.core.display.HTML object>"
            ],
            "text/html": [
              "\n",
              "     <input type=\"file\" id=\"files-6169b9b2-9c81-4843-b2c0-718d217201e4\" name=\"files[]\" multiple disabled\n",
              "        style=\"border:none\" />\n",
              "     <output id=\"result-6169b9b2-9c81-4843-b2c0-718d217201e4\">\n",
              "      Upload widget is only available when the cell has been executed in the\n",
              "      current browser session. Please rerun this cell to enable.\n",
              "      </output>\n",
              "      <script>// Copyright 2017 Google LLC\n",
              "//\n",
              "// Licensed under the Apache License, Version 2.0 (the \"License\");\n",
              "// you may not use this file except in compliance with the License.\n",
              "// You may obtain a copy of the License at\n",
              "//\n",
              "//      http://www.apache.org/licenses/LICENSE-2.0\n",
              "//\n",
              "// Unless required by applicable law or agreed to in writing, software\n",
              "// distributed under the License is distributed on an \"AS IS\" BASIS,\n",
              "// WITHOUT WARRANTIES OR CONDITIONS OF ANY KIND, either express or implied.\n",
              "// See the License for the specific language governing permissions and\n",
              "// limitations under the License.\n",
              "\n",
              "/**\n",
              " * @fileoverview Helpers for google.colab Python module.\n",
              " */\n",
              "(function(scope) {\n",
              "function span(text, styleAttributes = {}) {\n",
              "  const element = document.createElement('span');\n",
              "  element.textContent = text;\n",
              "  for (const key of Object.keys(styleAttributes)) {\n",
              "    element.style[key] = styleAttributes[key];\n",
              "  }\n",
              "  return element;\n",
              "}\n",
              "\n",
              "// Max number of bytes which will be uploaded at a time.\n",
              "const MAX_PAYLOAD_SIZE = 100 * 1024;\n",
              "\n",
              "function _uploadFiles(inputId, outputId) {\n",
              "  const steps = uploadFilesStep(inputId, outputId);\n",
              "  const outputElement = document.getElementById(outputId);\n",
              "  // Cache steps on the outputElement to make it available for the next call\n",
              "  // to uploadFilesContinue from Python.\n",
              "  outputElement.steps = steps;\n",
              "\n",
              "  return _uploadFilesContinue(outputId);\n",
              "}\n",
              "\n",
              "// This is roughly an async generator (not supported in the browser yet),\n",
              "// where there are multiple asynchronous steps and the Python side is going\n",
              "// to poll for completion of each step.\n",
              "// This uses a Promise to block the python side on completion of each step,\n",
              "// then passes the result of the previous step as the input to the next step.\n",
              "function _uploadFilesContinue(outputId) {\n",
              "  const outputElement = document.getElementById(outputId);\n",
              "  const steps = outputElement.steps;\n",
              "\n",
              "  const next = steps.next(outputElement.lastPromiseValue);\n",
              "  return Promise.resolve(next.value.promise).then((value) => {\n",
              "    // Cache the last promise value to make it available to the next\n",
              "    // step of the generator.\n",
              "    outputElement.lastPromiseValue = value;\n",
              "    return next.value.response;\n",
              "  });\n",
              "}\n",
              "\n",
              "/**\n",
              " * Generator function which is called between each async step of the upload\n",
              " * process.\n",
              " * @param {string} inputId Element ID of the input file picker element.\n",
              " * @param {string} outputId Element ID of the output display.\n",
              " * @return {!Iterable<!Object>} Iterable of next steps.\n",
              " */\n",
              "function* uploadFilesStep(inputId, outputId) {\n",
              "  const inputElement = document.getElementById(inputId);\n",
              "  inputElement.disabled = false;\n",
              "\n",
              "  const outputElement = document.getElementById(outputId);\n",
              "  outputElement.innerHTML = '';\n",
              "\n",
              "  const pickedPromise = new Promise((resolve) => {\n",
              "    inputElement.addEventListener('change', (e) => {\n",
              "      resolve(e.target.files);\n",
              "    });\n",
              "  });\n",
              "\n",
              "  const cancel = document.createElement('button');\n",
              "  inputElement.parentElement.appendChild(cancel);\n",
              "  cancel.textContent = 'Cancel upload';\n",
              "  const cancelPromise = new Promise((resolve) => {\n",
              "    cancel.onclick = () => {\n",
              "      resolve(null);\n",
              "    };\n",
              "  });\n",
              "\n",
              "  // Wait for the user to pick the files.\n",
              "  const files = yield {\n",
              "    promise: Promise.race([pickedPromise, cancelPromise]),\n",
              "    response: {\n",
              "      action: 'starting',\n",
              "    }\n",
              "  };\n",
              "\n",
              "  cancel.remove();\n",
              "\n",
              "  // Disable the input element since further picks are not allowed.\n",
              "  inputElement.disabled = true;\n",
              "\n",
              "  if (!files) {\n",
              "    return {\n",
              "      response: {\n",
              "        action: 'complete',\n",
              "      }\n",
              "    };\n",
              "  }\n",
              "\n",
              "  for (const file of files) {\n",
              "    const li = document.createElement('li');\n",
              "    li.append(span(file.name, {fontWeight: 'bold'}));\n",
              "    li.append(span(\n",
              "        `(${file.type || 'n/a'}) - ${file.size} bytes, ` +\n",
              "        `last modified: ${\n",
              "            file.lastModifiedDate ? file.lastModifiedDate.toLocaleDateString() :\n",
              "                                    'n/a'} - `));\n",
              "    const percent = span('0% done');\n",
              "    li.appendChild(percent);\n",
              "\n",
              "    outputElement.appendChild(li);\n",
              "\n",
              "    const fileDataPromise = new Promise((resolve) => {\n",
              "      const reader = new FileReader();\n",
              "      reader.onload = (e) => {\n",
              "        resolve(e.target.result);\n",
              "      };\n",
              "      reader.readAsArrayBuffer(file);\n",
              "    });\n",
              "    // Wait for the data to be ready.\n",
              "    let fileData = yield {\n",
              "      promise: fileDataPromise,\n",
              "      response: {\n",
              "        action: 'continue',\n",
              "      }\n",
              "    };\n",
              "\n",
              "    // Use a chunked sending to avoid message size limits. See b/62115660.\n",
              "    let position = 0;\n",
              "    do {\n",
              "      const length = Math.min(fileData.byteLength - position, MAX_PAYLOAD_SIZE);\n",
              "      const chunk = new Uint8Array(fileData, position, length);\n",
              "      position += length;\n",
              "\n",
              "      const base64 = btoa(String.fromCharCode.apply(null, chunk));\n",
              "      yield {\n",
              "        response: {\n",
              "          action: 'append',\n",
              "          file: file.name,\n",
              "          data: base64,\n",
              "        },\n",
              "      };\n",
              "\n",
              "      let percentDone = fileData.byteLength === 0 ?\n",
              "          100 :\n",
              "          Math.round((position / fileData.byteLength) * 100);\n",
              "      percent.textContent = `${percentDone}% done`;\n",
              "\n",
              "    } while (position < fileData.byteLength);\n",
              "  }\n",
              "\n",
              "  // All done.\n",
              "  yield {\n",
              "    response: {\n",
              "      action: 'complete',\n",
              "    }\n",
              "  };\n",
              "}\n",
              "\n",
              "scope.google = scope.google || {};\n",
              "scope.google.colab = scope.google.colab || {};\n",
              "scope.google.colab._files = {\n",
              "  _uploadFiles,\n",
              "  _uploadFilesContinue,\n",
              "};\n",
              "})(self);\n",
              "</script> "
            ]
          },
          "metadata": {}
        },
        {
          "output_type": "stream",
          "name": "stdout",
          "text": [
            "Saving 15_Digital_Bookstore_System.csv to 15_Digital_Bookstore_System.csv\n"
          ]
        }
      ]
    },
    {
      "cell_type": "markdown",
      "source": [
        "# **Define Book Class**"
      ],
      "metadata": {
        "id": "OzOgKCU0YnDD"
      }
    },
    {
      "cell_type": "code",
      "source": [
        "class Book:\n",
        "    def __init__(self, book_id, title, author, genre, price, stock, rating):\n",
        "        self.book_id = str(book_id)\n",
        "        self.title = title\n",
        "        self.author = author\n",
        "        self.genre = genre\n",
        "        self.price = float(price)\n",
        "        self.stock = int(stock)\n",
        "        self.rating = float(rating)\n",
        "        self.reviews = []"
      ],
      "metadata": {
        "id": "dOBjL9IzWzmF"
      },
      "execution_count": 4,
      "outputs": []
    },
    {
      "cell_type": "markdown",
      "source": [
        "# **Define Shopping Cart Class**"
      ],
      "metadata": {
        "id": "5lI86Z6mYuzr"
      }
    },
    {
      "cell_type": "code",
      "source": [
        "class ShoppingCart:\n",
        "    def __init__(self):\n",
        "        self.items = {}\n",
        "\n",
        "    def add_item(self, book, quantity):\n",
        "        \"\"\"Adding a book\"\"\"\n",
        "        if quantity <= 0:\n",
        "            raise ValueError(\"Quantity must be positive\")\n",
        "        if book.stock < quantity:\n",
        "            raise ValueError(f\"Insufficient stock. Only {book.stock} copies available.\")\n",
        "\n",
        "        if book.book_id in self.items:\n",
        "            self.items[book.book_id] += quantity\n",
        "        else:\n",
        "            self.items[book.book_id] = quantity\n",
        "\n",
        "    def remove_item(self, book_id):\n",
        "        \"\"\"Removing a book.\"\"\"\n",
        "        if book_id in self.items:\n",
        "            del self.items[book_id]\n",
        "\n",
        "    def calculate_total(self, bookstore):\n",
        "        \"\"\"Calculate total price with applicable discounts.\"\"\"\n",
        "        total = sum(bookstore.books[book_id].price * qty\n",
        "                   for book_id, qty in self.items.items())\n",
        "        if total > 50:\n",
        "            total *= 0.9  # 10% discount\n",
        "        return round(total, 2)"
      ],
      "metadata": {
        "id": "0xwTyKIBW1R6"
      },
      "execution_count": 5,
      "outputs": []
    },
    {
      "cell_type": "markdown",
      "source": [
        "# **Define Disital Bookstore Class**"
      ],
      "metadata": {
        "id": "7hYSCWz3Y5Ds"
      }
    },
    {
      "cell_type": "code",
      "source": [
        "class DigitalBookstore:\n",
        "    def __init__(self):\n",
        "        self.books = {}\n",
        "        self.sales_history = []\n",
        "        self.users = {}\n",
        "        self.load_books()\n",
        "\n",
        "    #Database Management\n",
        "    def load_books(self):\n",
        "        df = pd.read_csv('15_Digital_Bookstore_System.csv')\n",
        "        for _, row in df.iterrows():\n",
        "            book_dict = row.to_dict()\n",
        "            self.books[book_dict['Book ID']] = Book(\n",
        "                book_id=book_dict['Book ID'],\n",
        "                title=book_dict['Title'],\n",
        "                author=book_dict['Author'],\n",
        "                genre=book_dict['Genre'],\n",
        "                price=book_dict['Price'],\n",
        "                stock=book_dict['Stock'],\n",
        "                rating=book_dict['Rating']\n",
        "            )\n",
        "\n",
        "    def save_books(self):\n",
        "        books_data = []\n",
        "        for book in self.books.values():\n",
        "            books_data.append({\n",
        "                'Book ID': book.book_id,\n",
        "                'Title': book.title,\n",
        "                'Author': book.author,\n",
        "                'Genre': book.genre,\n",
        "                'Price': book.price,\n",
        "                'Stock': book.stock,\n",
        "                'Rating': book.rating\n",
        "            })\n",
        "        df = pd.DataFrame(books_data)\n",
        "        df.to_csv('15_Digital_Bookstore_System.csv', index=False)\n",
        "\n",
        "    #Book Catalog Management\n",
        "    def get_all_books(self):\n",
        "        return list(self.books.values())\n",
        "\n",
        "    def get_genres(self):\n",
        "        return sorted(list(set(book.genre for book in self.books.values())))\n",
        "\n",
        "    def search_books(self, criteria, value):\n",
        "        results = []\n",
        "        for book in self.books.values():\n",
        "            if criteria == 'title' and value.lower() in book.title.lower():\n",
        "                results.append(book)\n",
        "            elif criteria == 'author' and value.lower() in book.author.lower():\n",
        "                results.append(book)\n",
        "            elif criteria == 'genre' and value.lower() == book.genre.lower():\n",
        "                results.append(book)\n",
        "            elif criteria == 'rating' and book.rating >= float(value):\n",
        "                results.append(book)\n",
        "        return results\n",
        "\n",
        "    #Purchase Management\n",
        "    def process_purchase(self, cart, user_id):\n",
        "        \"\"\"Process a purchase transaction.\"\"\"\n",
        "        total = cart.calculate_total(self)\n",
        "\n",
        "        # Check stock availability\n",
        "        for book_id, qty in cart.items.items():\n",
        "            if self.books[book_id].stock < qty:\n",
        "                raise ValueError(f\"Insufficient stock for book: {self.books[book_id].title}\")\n",
        "\n",
        "        # Update stock and record sale\n",
        "        sale_record = {\n",
        "            'user_id': user_id,\n",
        "            'date': datetime.now().strftime('%Y-%m-%d %H:%M:%S'),\n",
        "            'items': {},\n",
        "            'total': total\n",
        "        }\n",
        "\n",
        "        for book_id, qty in cart.items.items():\n",
        "            book = self.books[book_id]\n",
        "            book.stock -= qty\n",
        "            sale_record['items'][book_id] = {\n",
        "                'title': book.title,\n",
        "                'quantity': qty,\n",
        "                'price': book.price\n",
        "            }\n",
        "\n",
        "        self.sales_history.append(sale_record)\n",
        "        self.save_books()\n",
        "        return sale_record\n",
        "\n",
        "    #Review System\n",
        "    def add_review(self, book_id, user_id, rating, review_text):\n",
        "        if book_id in self.books:\n",
        "            book = self.books[book_id]\n",
        "            review = {\n",
        "                'user_id': user_id,\n",
        "                'rating': rating,\n",
        "                'text': review_text,\n",
        "                'date': datetime.now().strftime('%Y-%m-%d %H:%M:%S')\n",
        "            }\n",
        "            book.reviews.append(review)\n",
        "\n",
        "            # Update book rating\n",
        "            ratings = [review['rating'] for review in book.reviews]\n",
        "            book.rating = round((sum(ratings) / len(ratings)), 1)\n",
        "            self.save_books()\n",
        "\n",
        "    #Book Analysi\n",
        "    def get_top_rated_books(self, n=5):\n",
        "        \"\"\"Get top rated books.\"\"\"\n",
        "        return sorted(self.books.values(), key=lambda x: x.rating, reverse=True)[:n]\n",
        "\n",
        "    def get_books_by_genre(self, genre):\n",
        "        return [book for book in self.books.values() if book.genre.lower() == genre.lower()]\n",
        "\n",
        "    #Sales Analysis\n",
        "    def generate_sales_report(self, report_type, period=None):\n",
        "        if report_type == 'most_purchased':\n",
        "            book_sales = {}\n",
        "            for sale in self.sales_history:\n",
        "                for book_id, details in sale['items'].items():\n",
        "                    book_sales[book_id] = book_sales.get(book_id, 0) + details['quantity']\n",
        "            return sorted(book_sales.items(), key=lambda x: x[1], reverse=True)\n",
        "\n",
        "        elif report_type == 'revenue':\n",
        "            if period:\n",
        "                filtered_sales = [sale for sale in self.sales_history\n",
        "                                if sale['date'].startswith(period)]\n",
        "                return sum(sale['total'] for sale in filtered_sales)\n",
        "            return sum(sale['total'] for sale in self.sales_history)\n",
        "\n",
        "        elif report_type == 'genre_trends':\n",
        "            genre_sales = {}\n",
        "            for sale in self.sales_history:\n",
        "                for book_id, details in sale['items'].items():\n",
        "                    genre = self.books[book_id].genre\n",
        "                    genre_sales[genre] = genre_sales.get(genre, 0) + details['quantity']\n",
        "            return genre_sales\n",
        "\n",
        "    #Visualization\n",
        "    def visualize_sales(self, visualization_type):\n",
        "        plt.figure(figsize=(12, 6))\n",
        "\n",
        "        if visualization_type == 'genre_popularity':\n",
        "            genre_counts = {}\n",
        "            for book in self.books.values():\n",
        "                genre_counts[book.genre] = genre_counts.get(book.genre, 0) + 1\n",
        "\n",
        "            plt.bar(genre_counts.keys(), genre_counts.values(), color='navy')\n",
        "            plt.title('Books by Genre', pad=20, fontsize=14)\n",
        "            plt.xlabel('Genre', fontsize=12)\n",
        "            plt.ylabel('Number of Books', fontsize=12)\n",
        "            plt.xticks(rotation=45, ha='right')\n",
        "\n",
        "        elif visualization_type == 'price_distribution':\n",
        "            prices = [book.price for book in self.books.values()]\n",
        "            plt.hist(prices, bins=20, edgecolor='black', color='navy', alpha=0.7)\n",
        "            plt.title('Book Price Distribution', pad=20, fontsize=14)\n",
        "            plt.xlabel('Price ($)', fontsize=12)\n",
        "            plt.ylabel('Number of Books', fontsize=12)\n",
        "\n",
        "        plt.tight_layout()\n",
        "        plt.grid(True, alpha=0.3)\n",
        "        plt.show()\n",
        "\n",
        "    #Recommendation System\n",
        "    def recommend_books(self, user_id, method='similar_genre', book_id=None):\n",
        "        if method == 'similar_genre' and book_id:\n",
        "            if book_id not in self.books:\n",
        "                return []\n",
        "            target_genre = self.books[book_id].genre\n",
        "\n",
        "            similar_books = [\n",
        "                book for book in self.books.values()\n",
        "                if book.genre == target_genre\n",
        "                and book.book_id != book_id\n",
        "                and book.rating >= 4.5\n",
        "            ]\n",
        "            return sorted(similar_books, key=lambda x: x.rating, reverse=True)[:5]\n",
        "\n",
        "        return []\n"
      ],
      "metadata": {
        "id": "ZoKpVer7W4z4"
      },
      "execution_count": 6,
      "outputs": []
    },
    {
      "cell_type": "markdown",
      "source": [
        "# **Testing and Demonstration**"
      ],
      "metadata": {
        "id": "uz066IWAZBCA"
      }
    },
    {
      "cell_type": "code",
      "source": [
        "def main():\n",
        "    # Initialize bookstore\n",
        "    print(\"🏪 Initializing Digital Bookstore System...\")\n",
        "    bookstore = DigitalBookstore()\n",
        "\n",
        "    # Print available genres\n",
        "    print(\"\\n📚 Available Genres:\")\n",
        "    for genre in bookstore.get_genres():\n",
        "        print(f\"  • {genre}\")\n",
        "\n",
        "    # Print top rated books\n",
        "    print(\"\\n⭐ Top 5 Rated Books:\")\n",
        "    for book in bookstore.get_top_rated_books(5):\n",
        "        print(f\"  • {book.title} by {book.author} - Rating: {book.rating}\")\n",
        "\n",
        "    # Test search functionality\n",
        "    print(\"\\n🔍 Searching for 'King' books:\")\n",
        "    king_books = bookstore.search_books('author', 'King')\n",
        "    for book in king_books:\n",
        "        print(f\"  • {book.title} by {book.author} - ${book.price}\")\n",
        "\n",
        "    # Test shopping cart\n",
        "    cart = ShoppingCart()\n",
        "    try:\n",
        "        if king_books:\n",
        "            cart.add_item(king_books[0], 1)\n",
        "            print(f\"\\n🛒 Added to cart: {king_books[0].title}\")\n",
        "\n",
        "            # Process purchase\n",
        "            receipt = bookstore.process_purchase(cart, \"user123\")\n",
        "            print(\"\\n✅ Purchase successful!\")\n",
        "            print(\"Receipt:\", json.dumps(receipt, indent=2))\n",
        "    except ValueError as e:\n",
        "        print(f\"❌ Error: {e}\")\n",
        "\n",
        "    # Visualize data\n",
        "    print(\"\\n📊 Generating Visualizations...\")\n",
        "    bookstore.visualize_sales('genre_popularity')\n",
        "    bookstore.visualize_sales('price_distribution')\n"
      ],
      "metadata": {
        "id": "4qPNEu1qW5s2"
      },
      "execution_count": 7,
      "outputs": []
    },
    {
      "cell_type": "markdown",
      "source": [
        "# **Execute Project**"
      ],
      "metadata": {
        "id": "sXu_LCQ1ZN3r"
      }
    },
    {
      "cell_type": "code",
      "source": [
        "if __name__ == \"__main__\":\n",
        "    main()"
      ],
      "metadata": {
        "colab": {
          "base_uri": "https://localhost:8080/",
          "height": 1000
        },
        "id": "8ZxJFTmWW5qI",
        "outputId": "7d8d39e7-76d0-4504-8cac-005f30a046d6"
      },
      "execution_count": 8,
      "outputs": [
        {
          "output_type": "stream",
          "name": "stdout",
          "text": [
            "🏪 Initializing Digital Bookstore System...\n",
            "\n",
            "📚 Available Genres:\n",
            "  • Biography\n",
            "  • Children's Fiction\n",
            "  • Classics\n",
            "  • Fantasy\n",
            "  • Fiction\n",
            "  • Historical Fiction\n",
            "  • Horror\n",
            "  • Mystery\n",
            "  • Non-Fiction\n",
            "  • Romance\n",
            "  • Science Fiction\n",
            "  • Self-Help\n",
            "\n",
            "⭐ Top 5 Rated Books:\n",
            "  • Atomic Habits by James Clear - Rating: 4.9\n",
            "  • To Kill a Mockingbird by Harper Lee - Rating: 4.9\n",
            "  • Charlotte's Web by E.B. White - Rating: 4.9\n",
            "  • Harry Potter and the Sorcerer's Stone by J.K. Rowling - Rating: 4.9\n",
            "  • The Lord of the Rings by J.R.R. Tolkien - Rating: 4.9\n",
            "\n",
            "🔍 Searching for 'King' books:\n",
            "  • The Shining by Stephen King - $13.99\n",
            "  • It by Stephen King - $14.5\n",
            "  • Misery by Stephen King - $12.99\n",
            "  • Pet Sematary by Stephen King - $11.5\n",
            "  • The Stand by Stephen King - $18.99\n",
            "\n",
            "🛒 Added to cart: The Shining\n",
            "\n",
            "✅ Purchase successful!\n",
            "Receipt: {\n",
            "  \"user_id\": \"user123\",\n",
            "  \"date\": \"2025-01-28 16:24:03\",\n",
            "  \"items\": {\n",
            "    \"BK-1040\": {\n",
            "      \"title\": \"The Shining\",\n",
            "      \"quantity\": 1,\n",
            "      \"price\": 13.99\n",
            "    }\n",
            "  },\n",
            "  \"total\": 13.99\n",
            "}\n",
            "\n",
            "📊 Generating Visualizations...\n"
          ]
        },
        {
          "output_type": "display_data",
          "data": {
            "text/plain": [
              "<Figure size 1200x600 with 1 Axes>"
            ],
            "image/png": "[encoded data removed]"
          },
          "metadata": {}
        },
        {
          "output_type": "display_data",
          "data": {
            "text/plain": [
              "<Figure size 1200x600 with 1 Axes>"
            ],
            "image/png": "[encoded data removed]"
          },
          "metadata": {}
        }
      ]
    }
  ]
}