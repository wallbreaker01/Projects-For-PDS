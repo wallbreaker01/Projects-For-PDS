{
  "cells": [
    {
      "cell_type": "markdown",
      "metadata": {
        "id": "UZzIM_zuIIBQ"
      },
      "source": [
        "# Import Required Libraries\n",
        "Import necessary libraries such as pandas, matplotlib, and any other required libraries."
      ]
    },
    {
      "cell_type": "code",
      "execution_count": 1,
      "metadata": {
        "id": "ZUSV-nFoIIBT"
      },
      "outputs": [],
      "source": [
        "import pandas as pd\n",
        "import matplotlib.pyplot as plt\n",
        "\n",
        "import numpy as np\n",
        "import datetime"
      ]
    },
    {
      "cell_type": "markdown",
      "metadata": {
        "id": "nIYEMLNoIIBU"
      },
      "source": [
        "# Load Book Database\n",
        "Load the book database from a CSV file into a pandas DataFrame."
      ]
    },
    {
      "cell_type": "code",
      "execution_count": 2,
      "metadata": {
        "id": "hfe7n_irIIBV"
      },
      "outputs": [],
      "source": [
        "book_data = pd.read_csv('book_database.csv')"
      ]
    },
    {
      "cell_type": "markdown",
      "metadata": {
        "id": "WbZrf9N_IIBV"
      },
      "source": [
        "# View Available Books\n",
        "Display the list of available books with their details."
      ]
    },
    {
      "cell_type": "code",
      "execution_count": 3,
      "metadata": {
        "colab": {
          "base_uri": "https://localhost:8080/"
        },
        "id": "YvhKNT4GIIBV",
        "outputId": "1ebb5d02-fcc9-4cf6-f2de-8e3578e4680c"
      },
      "outputs": [
        {
          "name": "stdout",
          "output_type": "stream",
          "text": [
            "Book ID                                 Title              Author              Genre  Price  Stock  Rating\n",
            "BK-1001                    The Silent Patient    Alex Michaelides            Fiction  15.99     20     4.7\n",
            "BK-1002               Where the Crawdads Sing         Delia Owens            Mystery  12.99     15     4.6\n",
            "BK-1003                              Becoming      Michelle Obama          Biography  18.50     30     4.8\n",
            "BK-1004                              Educated       Tara Westover        Non-Fiction  13.99     10     4.7\n",
            "BK-1005   The Subtle Art of Not Giving a F*ck         Mark Manson          Self-Help  10.99     25     4.5\n",
            "BK-1006                         Atomic Habits         James Clear          Self-Help  11.50     35     4.9\n",
            "BK-1007                                 Circe     Madeline Miller            Fantasy  16.00     18     4.6\n",
            "BK-1008               Little Fires Everywhere          Celeste Ng            Fiction  14.75     12     4.4\n",
            "BK-1009                      The Night Circus    Erin Morgenstern            Fantasy  13.50     20     4.3\n",
            "BK-1010                         The Alchemist        Paulo Coelho           Classics  12.00     22     4.7\n",
            "BK-1011                                  1984       George Orwell           Classics  10.99     28     4.8\n",
            "BK-1012                 To Kill a Mockingbird          Harper Lee           Classics  11.99     15     4.9\n",
            "BK-1013                   Pride and Prejudice         Jane Austen            Romance   9.50     18     4.5\n",
            "BK-1014                                  Dune       Frank Herbert    Science Fiction  17.50     12     4.6\n",
            "BK-1015                The Catcher in the Rye       J.D. Salinger           Classics  10.00     20     4.3\n",
            "BK-1016                       Brave New World       Aldous Huxley    Science Fiction  12.50     25     4.4\n",
            "BK-1017                      The Great Gatsby F. Scott Fitzgerald           Classics  10.75     18     4.2\n",
            "BK-1018                             Moby Dick     Herman Melville           Classics  11.50     12     4.1\n",
            "BK-1019                         War and Peace         Leo Tolstoy           Classics  19.99      8     4.5\n",
            "BK-1020                              The Road     Cormac McCarthy            Fiction  13.00     15     4.4\n",
            "BK-1021 Sapiens: A Brief History of Humankind   Yuval Noah Harari        Non-Fiction  20.99     12     4.7\n",
            "BK-1022                             Homo Deus   Yuval Noah Harari        Non-Fiction  21.99     10     4.6\n",
            "BK-1023                    The Power of Habit      Charles Duhigg          Self-Help  12.99     22     4.5\n",
            "BK-1024                   The Four Agreements     Don Miguel Ruiz          Self-Help   9.99     20     4.4\n",
            "BK-1025                        The Book Thief        Markus Zusak Historical Fiction  15.50     25     4.8\n",
            "BK-1026                      A Man Called Ove     Fredrik Backman            Fiction  14.99     18     4.7\n",
            "BK-1027   Eleanor Oliphant Is Completely Fine       Gail Honeyman            Fiction  13.99     15     4.6\n",
            "BK-1028                        Goodnight Moon Margaret Wise Brown Children's Fiction   7.99     30     4.8\n",
            "BK-1029                       Charlotte's Web          E.B. White Children's Fiction   8.99     28     4.9\n",
            "BK-1030                      The Hunger Games     Suzanne Collins            Fantasy  12.50     25     4.8\n",
            "BK-1031 Harry Potter and the Sorcerer's Stone        J.K. Rowling            Fantasy  10.99     35     4.9\n",
            "BK-1032                 The Lord of the Rings      J.R.R. Tolkien            Fantasy  25.00     10     4.9\n",
            "BK-1033                            The Hobbit      J.R.R. Tolkien            Fantasy  14.99     20     4.8\n",
            "BK-1034                The Fault in Our Stars          John Green            Romance  11.50     15     4.6\n",
            "BK-1035                         Me Before You          Jojo Moyes            Romance  10.50     25     4.7\n",
            "BK-1036                             Divergent       Veronica Roth    Science Fiction   9.99     20     4.5\n",
            "BK-1037                              Twilight     Stephenie Meyer            Fantasy   8.99     15     4.4\n",
            "BK-1038                  Fifty Shades of Grey          E.L. James            Romance  10.00     18     4.3\n",
            "BK-1039                             Outlander      Diana Gabaldon Historical Fiction  15.50     10     4.6\n",
            "BK-1040                           The Shining        Stephen King             Horror  13.99     12     4.7\n",
            "BK-1041                                    It        Stephen King             Horror  14.50     10     4.6\n",
            "BK-1042                                Misery        Stephen King             Horror  12.99     15     4.5\n",
            "BK-1043                          Pet Sematary        Stephen King             Horror  11.50     20     4.4\n",
            "BK-1044                             The Stand        Stephen King             Horror  18.99      8     4.7\n",
            "BK-1045                               Dracula         Bram Stoker           Classics   9.99     12     4.6\n",
            "BK-1046                          Frankenstein        Mary Shelley           Classics  10.99     15     4.5\n",
            "BK-1047       The Girl with the Dragon Tattoo       Stieg Larsson            Mystery  12.99     18     4.7\n",
            "BK-1048                             Gone Girl       Gillian Flynn            Mystery  11.50     20     4.6\n",
            "BK-1049                       Big Little Lies      Liane Moriarty            Mystery  13.00     10     4.5\n",
            "BK-1050                         Sharp Objects       Gillian Flynn            Mystery  10.99     25     4.4\n"
          ]
        }
      ],
      "source": [
        "def view_available_books():\n",
        "    print(book_data.to_string(index=False))\n",
        "\n",
        "\n",
        "view_available_books()"
      ]
    },
    {
      "cell_type": "markdown",
      "metadata": {
        "id": "6D-rgxzOIIBW"
      },
      "source": [
        "# Search Books\n",
        "Implement search functionality to find books by title, author, genre, or rating."
      ]
    },
    {
      "cell_type": "code",
      "execution_count": 4,
      "metadata": {
        "colab": {
          "base_uri": "https://localhost:8080/"
        },
        "id": "Cx0sB8fCIIBX",
        "outputId": "37929847-5d16-4fda-c958-bc57259cd9ba"
      },
      "outputs": [
        {
          "name": "stdout",
          "output_type": "stream",
          "text": [
            "Book ID                                 Title       Author   Genre  Price  Stock  Rating\n",
            "BK-1031 Harry Potter and the Sorcerer's Stone J.K. Rowling Fantasy  10.99     35     4.9\n",
            "Book ID        Title       Author  Genre  Price  Stock  Rating\n",
            "BK-1040  The Shining Stephen King Horror  13.99     12     4.7\n",
            "BK-1041           It Stephen King Horror  14.50     10     4.6\n",
            "BK-1042       Misery Stephen King Horror  12.99     15     4.5\n",
            "BK-1043 Pet Sematary Stephen King Horror  11.50     20     4.4\n",
            "BK-1044    The Stand Stephen King Horror  18.99      8     4.7\n",
            "Book ID                                 Title           Author   Genre  Price  Stock  Rating\n",
            "BK-1007                                 Circe  Madeline Miller Fantasy  16.00     18     4.6\n",
            "BK-1009                      The Night Circus Erin Morgenstern Fantasy  13.50     20     4.3\n",
            "BK-1030                      The Hunger Games  Suzanne Collins Fantasy  12.50     25     4.8\n",
            "BK-1031 Harry Potter and the Sorcerer's Stone     J.K. Rowling Fantasy  10.99     35     4.9\n",
            "BK-1032                 The Lord of the Rings   J.R.R. Tolkien Fantasy  25.00     10     4.9\n",
            "BK-1033                            The Hobbit   J.R.R. Tolkien Fantasy  14.99     20     4.8\n",
            "BK-1037                              Twilight  Stephenie Meyer Fantasy   8.99     15     4.4\n",
            "Book ID                                 Title              Author              Genre  Price  Stock  Rating\n",
            "BK-1003                              Becoming      Michelle Obama          Biography  18.50     30     4.8\n",
            "BK-1006                         Atomic Habits         James Clear          Self-Help  11.50     35     4.9\n",
            "BK-1011                                  1984       George Orwell           Classics  10.99     28     4.8\n",
            "BK-1012                 To Kill a Mockingbird          Harper Lee           Classics  11.99     15     4.9\n",
            "BK-1025                        The Book Thief        Markus Zusak Historical Fiction  15.50     25     4.8\n",
            "BK-1028                        Goodnight Moon Margaret Wise Brown Children's Fiction   7.99     30     4.8\n",
            "BK-1029                       Charlotte's Web          E.B. White Children's Fiction   8.99     28     4.9\n",
            "BK-1030                      The Hunger Games     Suzanne Collins            Fantasy  12.50     25     4.8\n",
            "BK-1031 Harry Potter and the Sorcerer's Stone        J.K. Rowling            Fantasy  10.99     35     4.9\n",
            "BK-1032                 The Lord of the Rings      J.R.R. Tolkien            Fantasy  25.00     10     4.9\n",
            "BK-1033                            The Hobbit      J.R.R. Tolkien            Fantasy  14.99     20     4.8\n"
          ]
        }
      ],
      "source": [
        "def search_books(search_by, search_value):\n",
        "    if search_by not in ['Title', 'Author', 'Genre', 'Rating']:\n",
        "        print(\"Invalid search criteria. Please search by 'Title', 'Author', 'Genre', or 'Rating'.\")\n",
        "        return\n",
        "\n",
        "    if search_by == 'Rating':\n",
        "        search_value = float(search_value)\n",
        "        result = book_data[book_data[search_by] >= search_value]\n",
        "    else:\n",
        "        result = book_data[book_data[search_by].str.contains(search_value, case=False, na=False)]\n",
        "\n",
        "    if not result.empty:\n",
        "        print(result.to_string(index=False))\n",
        "    else:\n",
        "        print(\"No books found matching the search criteria.\")\n",
        "\n",
        "# Example\n",
        "search_books('Title', 'Harry Potter')\n",
        "search_books('Author', 'Stephen King')\n",
        "search_books('Genre', 'Fantasy')\n",
        "search_books('Rating', '4.8')"
      ]
    },
    {
      "cell_type": "markdown",
      "metadata": {
        "id": "bS-P3-C3IIBX"
      },
      "source": [
        "# Add Books to Cart\n",
        "Allow users to add selected books to a virtual cart."
      ]
    },
    {
      "cell_type": "code",
      "execution_count": 5,
      "metadata": {
        "colab": {
          "base_uri": "https://localhost:8080/"
        },
        "id": "YEwjoYXxIIBX",
        "outputId": "fea90d13-236d-4bc6-e269-57805b712d5a"
      },
      "outputs": [
        {
          "name": "stdout",
          "output_type": "stream",
          "text": [
            "Added 2 copies of 'The Silent Patient' to the cart.\n",
            "Added 1 copies of 'Harry Potter and the Sorcerer's Stone' to the cart.\n",
            "Book ID                                 Title           Author   Genre  Price  Quantity  Total Price\n",
            "BK-1001                    The Silent Patient Alex Michaelides Fiction  15.99         2        31.98\n",
            "BK-1031 Harry Potter and the Sorcerer's Stone     J.K. Rowling Fantasy  10.99         1        10.99\n"
          ]
        }
      ],
      "source": [
        "cart = []\n",
        "\n",
        "def add_to_cart(book_id, quantity):\n",
        "    if book_id not in book_data['Book ID'].values:\n",
        "        print(\"Invalid Book ID. Please try again.\")\n",
        "        return\n",
        "\n",
        "\n",
        "    book = book_data[book_data['Book ID'] == book_id].iloc[0]\n",
        "\n",
        "\n",
        "    if quantity > book['Stock']:\n",
        "        print(f\"Requested quantity exceeds available stock. Available stock: {book['Stock']}\")\n",
        "        return\n",
        "\n",
        "\n",
        "    cart.append({\n",
        "        'Book ID': book_id,\n",
        "        'Title': book['Title'],\n",
        "        'Author': book['Author'],\n",
        "        'Genre': book['Genre'],\n",
        "        'Price': book['Price'],\n",
        "        'Quantity': quantity,\n",
        "        'Total Price': book['Price'] * quantity\n",
        "    })\n",
        "\n",
        "    book_data.loc[book_data['Book ID'] == book_id, 'Stock'] -= quantity\n",
        "\n",
        "    print(f\"Added {quantity} copies of '{book['Title']}' to the cart.\")\n",
        "\n",
        "# Example\n",
        "add_to_cart('BK-1001', 2)\n",
        "add_to_cart('BK-1031', 1)\n",
        "\n",
        "# Display the cart contents\n",
        "def view_cart():\n",
        "    if not cart:\n",
        "        print(\"Your cart is empty.\")\n",
        "    else:\n",
        "        cart_df = pd.DataFrame(cart)\n",
        "        print(cart_df.to_string(index=False))\n",
        "\n",
        "#view the cart\n",
        "view_cart()"
      ]
    },
    {
      "cell_type": "markdown",
      "metadata": {
        "id": "m2mBIZJMIIBY"
      },
      "source": [
        "# Calculate Total Price with Discounts\n",
        "Calculate the total price of the books in the cart, applying discounts if applicable."
      ]
    },
    {
      "cell_type": "code",
      "execution_count": 6,
      "metadata": {
        "colab": {
          "base_uri": "https://localhost:8080/"
        },
        "id": "NjEGoo7tIIBY",
        "outputId": "babd3553-5dc3-4281-b909-3005c754602e"
      },
      "outputs": [
        {
          "name": "stdout",
          "output_type": "stream",
          "text": [
            "The total price of the books in your cart is: $42.97\n"
          ]
        }
      ],
      "source": [
        "def calculate_total_price(cart):\n",
        "\n",
        "    cart_df = pd.DataFrame(cart)\n",
        "    total_price = cart_df['Total Price'].sum()\n",
        "\n",
        "    # Apply a 10% discount if the total price exceeds $50\n",
        "    if total_price > 50:\n",
        "        discount = total_price * 0.10\n",
        "        total_price -= discount\n",
        "        print(f\"A 10% discount of ${discount:.2f} has been applied.\")\n",
        "\n",
        "    print(f\"The total price of the books in your cart is: ${total_price:.2f}\")\n",
        "    return total_price\n",
        "\n",
        "# Example\n",
        "total_price = calculate_total_price(cart)"
      ]
    },
    {
      "cell_type": "markdown",
      "metadata": {
        "id": "fOegQDtdIIBY"
      },
      "source": [
        "# Update Stock After Purchase\n",
        "Update the stock of books after a purchase is made."
      ]
    },
    {
      "cell_type": "code",
      "execution_count": 7,
      "metadata": {
        "colab": {
          "base_uri": "https://localhost:8080/"
        },
        "id": "w1_SBLKOIIBY",
        "outputId": "74a50350-7bc7-48ac-f85b-674d906e1c84"
      },
      "outputs": [
        {
          "name": "stdout",
          "output_type": "stream",
          "text": [
            "Stock updated after purchase.\n",
            "Book ID                                 Title              Author              Genre  Price  Stock  Rating\n",
            "BK-1001                    The Silent Patient    Alex Michaelides            Fiction  15.99     18     4.7\n",
            "BK-1002               Where the Crawdads Sing         Delia Owens            Mystery  12.99     15     4.6\n",
            "BK-1003                              Becoming      Michelle Obama          Biography  18.50     30     4.8\n",
            "BK-1004                              Educated       Tara Westover        Non-Fiction  13.99     10     4.7\n",
            "BK-1005   The Subtle Art of Not Giving a F*ck         Mark Manson          Self-Help  10.99     25     4.5\n",
            "BK-1006                         Atomic Habits         James Clear          Self-Help  11.50     35     4.9\n",
            "BK-1007                                 Circe     Madeline Miller            Fantasy  16.00     18     4.6\n",
            "BK-1008               Little Fires Everywhere          Celeste Ng            Fiction  14.75     12     4.4\n",
            "BK-1009                      The Night Circus    Erin Morgenstern            Fantasy  13.50     20     4.3\n",
            "BK-1010                         The Alchemist        Paulo Coelho           Classics  12.00     22     4.7\n",
            "BK-1011                                  1984       George Orwell           Classics  10.99     28     4.8\n",
            "BK-1012                 To Kill a Mockingbird          Harper Lee           Classics  11.99     15     4.9\n",
            "BK-1013                   Pride and Prejudice         Jane Austen            Romance   9.50     18     4.5\n",
            "BK-1014                                  Dune       Frank Herbert    Science Fiction  17.50     12     4.6\n",
            "BK-1015                The Catcher in the Rye       J.D. Salinger           Classics  10.00     20     4.3\n",
            "BK-1016                       Brave New World       Aldous Huxley    Science Fiction  12.50     25     4.4\n",
            "BK-1017                      The Great Gatsby F. Scott Fitzgerald           Classics  10.75     18     4.2\n",
            "BK-1018                             Moby Dick     Herman Melville           Classics  11.50     12     4.1\n",
            "BK-1019                         War and Peace         Leo Tolstoy           Classics  19.99      8     4.5\n",
            "BK-1020                              The Road     Cormac McCarthy            Fiction  13.00     15     4.4\n",
            "BK-1021 Sapiens: A Brief History of Humankind   Yuval Noah Harari        Non-Fiction  20.99     12     4.7\n",
            "BK-1022                             Homo Deus   Yuval Noah Harari        Non-Fiction  21.99     10     4.6\n",
            "BK-1023                    The Power of Habit      Charles Duhigg          Self-Help  12.99     22     4.5\n",
            "BK-1024                   The Four Agreements     Don Miguel Ruiz          Self-Help   9.99     20     4.4\n",
            "BK-1025                        The Book Thief        Markus Zusak Historical Fiction  15.50     25     4.8\n",
            "BK-1026                      A Man Called Ove     Fredrik Backman            Fiction  14.99     18     4.7\n",
            "BK-1027   Eleanor Oliphant Is Completely Fine       Gail Honeyman            Fiction  13.99     15     4.6\n",
            "BK-1028                        Goodnight Moon Margaret Wise Brown Children's Fiction   7.99     30     4.8\n",
            "BK-1029                       Charlotte's Web          E.B. White Children's Fiction   8.99     28     4.9\n",
            "BK-1030                      The Hunger Games     Suzanne Collins            Fantasy  12.50     25     4.8\n",
            "BK-1031 Harry Potter and the Sorcerer's Stone        J.K. Rowling            Fantasy  10.99     33     4.9\n",
            "BK-1032                 The Lord of the Rings      J.R.R. Tolkien            Fantasy  25.00     10     4.9\n",
            "BK-1033                            The Hobbit      J.R.R. Tolkien            Fantasy  14.99     20     4.8\n",
            "BK-1034                The Fault in Our Stars          John Green            Romance  11.50     15     4.6\n",
            "BK-1035                         Me Before You          Jojo Moyes            Romance  10.50     25     4.7\n",
            "BK-1036                             Divergent       Veronica Roth    Science Fiction   9.99     20     4.5\n",
            "BK-1037                              Twilight     Stephenie Meyer            Fantasy   8.99     15     4.4\n",
            "BK-1038                  Fifty Shades of Grey          E.L. James            Romance  10.00     18     4.3\n",
            "BK-1039                             Outlander      Diana Gabaldon Historical Fiction  15.50     10     4.6\n",
            "BK-1040                           The Shining        Stephen King             Horror  13.99     12     4.7\n",
            "BK-1041                                    It        Stephen King             Horror  14.50     10     4.6\n",
            "BK-1042                                Misery        Stephen King             Horror  12.99     15     4.5\n",
            "BK-1043                          Pet Sematary        Stephen King             Horror  11.50     20     4.4\n",
            "BK-1044                             The Stand        Stephen King             Horror  18.99      8     4.7\n",
            "BK-1045                               Dracula         Bram Stoker           Classics   9.99     12     4.6\n",
            "BK-1046                          Frankenstein        Mary Shelley           Classics  10.99     15     4.5\n",
            "BK-1047       The Girl with the Dragon Tattoo       Stieg Larsson            Mystery  12.99     18     4.7\n",
            "BK-1048                             Gone Girl       Gillian Flynn            Mystery  11.50     20     4.6\n",
            "BK-1049                       Big Little Lies      Liane Moriarty            Mystery  13.00     10     4.5\n",
            "BK-1050                         Sharp Objects       Gillian Flynn            Mystery  10.99     25     4.4\n"
          ]
        }
      ],
      "source": [
        "def update_stock_after_purchase(cart):\n",
        "    for item in cart:\n",
        "        book_id = item['Book ID']\n",
        "        quantity_purchased = item['Quantity']\n",
        "\n",
        "    book_data.loc[book_data['Book ID'] == book_id, 'Stock'] -= quantity_purchased\n",
        "\n",
        "    print(\"Stock updated after purchase.\")\n",
        "\n",
        "# Example\n",
        "update_stock_after_purchase(cart)\n",
        "\n",
        "# Verify the stock update by viewing the available books\n",
        "view_available_books()"
      ]
    },
    {
      "cell_type": "markdown",
      "metadata": {
        "id": "7kdTrJbXIIBY"
      },
      "source": [
        "# Generate Receipt\n",
        "Generate a receipt displaying purchased books, their prices, and the total amount."
      ]
    },
    {
      "cell_type": "code",
      "execution_count": 8,
      "metadata": {
        "colab": {
          "base_uri": "https://localhost:8080/"
        },
        "id": "DOgLkH9OIIBZ",
        "outputId": "615099d1-8f4c-47da-fc49-f8972530cff8"
      },
      "outputs": [
        {
          "name": "stdout",
          "output_type": "stream",
          "text": [
            "Receipt - 2025-01-29 01:28:32\n",
            "--------------------------------------------------\n",
            "Book ID                                 Title           Author   Genre  Price  Quantity  Total Price\n",
            "BK-1001                    The Silent Patient Alex Michaelides Fiction  15.99         2        31.98\n",
            "BK-1031 Harry Potter and the Sorcerer's Stone     J.K. Rowling Fantasy  10.99         1        10.99\n",
            "--------------------------------------------------\n",
            "Total Amount: $42.97\n",
            "\n"
          ]
        }
      ],
      "source": [
        "def generate_receipt(cart, total_price):\n",
        "    if not cart:\n",
        "        print(\"Your cart is empty. No receipt to generate.\")\n",
        "        return\n",
        "\n",
        "    cart_df = pd.DataFrame(cart)\n",
        "\n",
        "    receipt = f\"Receipt - {datetime.datetime.now().strftime('%Y-%m-%d %H:%M:%S')}\\n\"\n",
        "    receipt += \"-\" * 50 + \"\\n\"\n",
        "    receipt += cart_df.to_string(index=False) + \"\\n\"\n",
        "    receipt += \"-\" * 50 + \"\\n\"\n",
        "    receipt += f\"Total Amount: ${total_price:.2f}\\n\"\n",
        "\n",
        "\n",
        "    print(receipt)\n",
        "\n",
        "# Example\n",
        "generate_receipt(cart, total_price)"
      ]
    },
    {
      "cell_type": "markdown",
      "metadata": {
        "id": "_n6BvHF-IIBZ"
      },
      "source": [
        "# Rate and Review Books\n",
        "Allow users to rate and review books after purchase, and save these reviews."
      ]
    },
    {
      "cell_type": "code",
      "execution_count": 9,
      "metadata": {
        "colab": {
          "base_uri": "https://localhost:8080/"
        },
        "id": "RwMz_aSkIIBZ",
        "outputId": "fe5bb3f1-30aa-4108-9517-a5dac8520627"
      },
      "outputs": [
        {
          "name": "stdout",
          "output_type": "stream",
          "text": [
            "Thank you for reviewing 'The Silent Patient'.\n",
            "Thank you for reviewing 'Harry Potter and the Sorcerer's Stone'.\n",
            "Book ID  Rating                                    Review\n",
            "BK-1001       5           Amazing book! Highly recommend.\n",
            "BK-1031       4 Great read, but a bit slow in the middle.\n"
          ]
        }
      ],
      "source": [
        "reviews = []\n",
        "\n",
        "\n",
        "def rate_and_review(book_id, rating, review):\n",
        "    if book_id not in book_data['Book ID'].values:\n",
        "        print(\"Invalid Book ID. Please try again.\")\n",
        "        return\n",
        "\n",
        "    if rating < 1 or rating > 5:\n",
        "        print(\"Invalid rating. Please provide a rating between 1 and 5.\")\n",
        "        return\n",
        "\n",
        "    reviews.append({\n",
        "        'Book ID': book_id,\n",
        "        'Rating': rating,\n",
        "        'Review': review\n",
        "    })\n",
        "\n",
        "    book_reviews = [r['Rating'] for r in reviews if r['Book ID'] == book_id]\n",
        "    average_rating = sum(book_reviews) / len(book_reviews)\n",
        "    book_data.loc[book_data['Book ID'] == book_id, 'Rating'] = average_rating\n",
        "\n",
        "    print(f\"Thank you for reviewing '{book_data.loc[book_data['Book ID'] == book_id, 'Title'].values[0]}'.\")\n",
        "\n",
        "# Example\n",
        "rate_and_review('BK-1001', 5, \"Amazing book! Highly recommend.\")\n",
        "rate_and_review('BK-1031', 4, \"Great read, but a bit slow in the middle.\")\n",
        "\n",
        "# Display all reviews\n",
        "def view_reviews():\n",
        "    if not reviews:\n",
        "        print(\"No reviews available.\")\n",
        "    else:\n",
        "        reviews_df = pd.DataFrame(reviews)\n",
        "        print(reviews_df.to_string(index=False))\n",
        "\n",
        "\n",
        "view_reviews()"
      ]
    },
    {
      "cell_type": "markdown",
      "metadata": {
        "id": "7EF9aETUIIBZ"
      },
      "source": [
        "# Track Total Sales\n",
        "Track total sales and maintain sales records."
      ]
    },
    {
      "cell_type": "code",
      "execution_count": 10,
      "metadata": {
        "colab": {
          "base_uri": "https://localhost:8080/"
        },
        "id": "ugxDPT9YIIBZ",
        "outputId": "c9ba6208-9276-4d6b-dd49-31e793c0a986"
      },
      "outputs": [
        {
          "name": "stdout",
          "output_type": "stream",
          "text": [
            "Sale recorded with Sales ID: SALE-0001\n",
            "Sales ID: SALE-0001\n",
            "Date: 2025-01-29 01:28:32\n",
            "Total Price: $42.97\n",
            "Books Purchased:\n",
            "  - The Silent Patient (Quantity: 2, Total Price: $31.98)\n",
            "  - Harry Potter and the Sorcerer's Stone (Quantity: 1, Total Price: $10.99)\n",
            "--------------------------------------------------\n"
          ]
        }
      ],
      "source": [
        "sales_records = []\n",
        "\n",
        "def track_total_sales(cart, total_price):\n",
        "    sales_id = f\"SALE-{len(sales_records) + 1:04d}\"\n",
        "\n",
        "    sale = {\n",
        "        'Sales ID': sales_id,\n",
        "        'Date': datetime.datetime.now().strftime('%Y-%m-%d %H:%M:%S'),\n",
        "        'Total Price': total_price,\n",
        "        'Books': cart\n",
        "    }\n",
        "\n",
        "    sales_records.append(sale)\n",
        "\n",
        "    print(f\"Sale recorded with Sales ID: {sales_id}\")\n",
        "\n",
        "# Example\n",
        "track_total_sales(cart, total_price)\n",
        "\n",
        "# Display all sales records\n",
        "def view_sales_records():\n",
        "    if not sales_records:\n",
        "        print(\"No sales records available.\")\n",
        "    else:\n",
        "        for sale in sales_records:\n",
        "            print(f\"Sales ID: {sale['Sales ID']}\")\n",
        "            print(f\"Date: {sale['Date']}\")\n",
        "            print(f\"Total Price: ${sale['Total Price']:.2f}\")\n",
        "            print(\"Books Purchased:\")\n",
        "            for book in sale['Books']:\n",
        "                print(f\"  - {book['Title']} (Quantity: {book['Quantity']}, Total Price: ${book['Total Price']:.2f})\")\n",
        "            print(\"-\" * 50)\n",
        "\n",
        "# Call the function to view all sales records\n",
        "view_sales_records()"
      ]
    },
    {
      "cell_type": "markdown",
      "metadata": {
        "id": "Wv4nN903IIBZ"
      },
      "source": [
        "# Generate Sales Reports\n",
        "Generate reports on most purchased books, total revenue, and sales trends by genre."
      ]
    },
    {
      "cell_type": "code",
      "execution_count": 11,
      "metadata": {
        "colab": {
          "base_uri": "https://localhost:8080/",
          "height": 598
        },
        "id": "Ex8HbtHGIIBa",
        "outputId": "c8698334-5018-4c39-beb4-fca735eb2487"
      },
      "outputs": [
        {
          "name": "stdout",
          "output_type": "stream",
          "text": [
            "Most Purchased Books:\n",
            "                                Title  Quantity\n",
            "                   The Silent Patient         2\n",
            "Harry Potter and the Sorcerer's Stone         1\n",
            "Total Revenue from 2023-01-01 to 2023-12-31: $0.00\n"
          ]
        },
        {
          "data": {
            "image/png": "[encoded data removed]",
            "text/plain": [
              "<Figure size 640x480 with 1 Axes>"
            ]
          },
          "metadata": {},
          "output_type": "display_data"
        }
      ],
      "source": [
        "def most_purchased_books(sales_records):\n",
        "    book_sales = {}\n",
        "    for sale in sales_records:\n",
        "        for book in sale['Books']:\n",
        "            if book['Book ID'] in book_sales:\n",
        "                book_sales[book['Book ID']]['Quantity'] += book['Quantity']\n",
        "            else:\n",
        "                book_sales[book['Book ID']] = {\n",
        "                    'Title': book['Title'],\n",
        "                    'Quantity': book['Quantity']\n",
        "                }\n",
        "\n",
        "    book_sales_df = pd.DataFrame(book_sales.values())\n",
        "\n",
        "    book_sales_df = book_sales_df.sort_values(by='Quantity', ascending=False)\n",
        "\n",
        "    print(\"Most Purchased Books:\")\n",
        "    print(book_sales_df.to_string(index=False))\n",
        "\n",
        "most_purchased_books(sales_records)\n",
        "\n",
        "def total_revenue(sales_records, start_date, end_date):\n",
        "    total_revenue = 0\n",
        "    for sale in sales_records:\n",
        "        sale_date = datetime.datetime.strptime(sale['Date'], '%Y-%m-%d %H:%M:%S')\n",
        "        if start_date <= sale_date <= end_date:\n",
        "            total_revenue += sale['Total Price']\n",
        "\n",
        "    print(f\"Total Revenue from {start_date.strftime('%Y-%m-%d')} to {end_date.strftime('%Y-%m-%d')}: ${total_revenue:.2f}\")\n",
        "\n",
        "# Example\n",
        "start_date = datetime.datetime(2023, 1, 1)\n",
        "end_date = datetime.datetime(2023, 12, 31)\n",
        "total_revenue(sales_records, start_date, end_date)\n",
        "\n",
        "# Function to generate a report on sales trends by genre\n",
        "def sales_trends_by_genre(sales_records):\n",
        "    genre_sales = {}\n",
        "    for sale in sales_records:\n",
        "        for book in sale['Books']:\n",
        "            if book['Genre'] in genre_sales:\n",
        "                genre_sales[book['Genre']] += book['Quantity']\n",
        "            else:\n",
        "                genre_sales[book['Genre']] = book['Quantity']\n",
        "\n",
        "    # Convert the genre_sales dictionary to a DataFrame\n",
        "    genre_sales_df = pd.DataFrame(list(genre_sales.items()), columns=['Genre', 'Quantity'])\n",
        "\n",
        "    # Plot the sales trends by genre\n",
        "    genre_sales_df.plot(kind='bar', x='Genre', y='Quantity', legend=False)\n",
        "    plt.title('Sales Trends by Genre')\n",
        "    plt.xlabel('Genre')\n",
        "    plt.ylabel('Quantity Sold')\n",
        "    plt.show()\n",
        "\n",
        "# Example usage of the sales_trends_by_genre function\n",
        "sales_trends_by_genre(sales_records)"
      ]
    },
    {
      "cell_type": "markdown",
      "metadata": {
        "id": "g2edGKlmIIBa"
      },
      "source": [
        "# Recommendation System (Optional)\n",
        "Implement a recommendation system to suggest books based on genre or user ratings."
      ]
    },
    {
      "cell_type": "code",
      "execution_count": 12,
      "metadata": {
        "colab": {
          "base_uri": "https://localhost:8080/"
        },
        "id": "Ai6FSPoPIIBa",
        "outputId": "a24add74-614f-42f0-9b7c-cae27987b486"
      },
      "outputs": [
        {
          "name": "stdout",
          "output_type": "stream",
          "text": [
            "Top 5 books in the genre 'Fantasy':\n",
            "                Title          Author  Rating\n",
            "The Lord of the Rings  J.R.R. Tolkien     4.9\n",
            "           The Hobbit  J.R.R. Tolkien     4.8\n",
            "     The Hunger Games Suzanne Collins     4.8\n",
            "                Circe Madeline Miller     4.6\n",
            "             Twilight Stephenie Meyer     4.4\n",
            "Top 5 books in the genre 'Science Fiction':\n",
            "          Title        Author  Rating\n",
            "           Dune Frank Herbert     4.6\n",
            "      Divergent Veronica Roth     4.5\n",
            "Brave New World Aldous Huxley     4.4\n",
            "Top 5 books with a rating of 4.8 or higher:\n",
            "                Title           Author  Rating\n",
            "   The Silent Patient Alex Michaelides     5.0\n",
            "        Atomic Habits      James Clear     4.9\n",
            "To Kill a Mockingbird       Harper Lee     4.9\n",
            "The Lord of the Rings   J.R.R. Tolkien     4.9\n",
            "      Charlotte's Web       E.B. White     4.9\n",
            "Top 5 books with a rating of 4.7 or higher:\n",
            "                Title           Author  Rating\n",
            "   The Silent Patient Alex Michaelides     5.0\n",
            "To Kill a Mockingbird       Harper Lee     4.9\n",
            "        Atomic Habits      James Clear     4.9\n",
            "The Lord of the Rings   J.R.R. Tolkien     4.9\n",
            "      Charlotte's Web       E.B. White     4.9\n"
          ]
        }
      ],
      "source": [
        "def recommend_books_by_genre(genre, top_n=5):\n",
        "    # Filter books by the specified genre\n",
        "    genre_books = book_data[book_data['Genre'].str.contains(genre, case=False, na=False)]\n",
        "\n",
        "    # Sort the books by rating in descending order\n",
        "    genre_books = genre_books.sort_values(by='Rating', ascending=False)\n",
        "\n",
        "    # Get the top N books\n",
        "    recommendations = genre_books.head(top_n)\n",
        "\n",
        "    # Display the recommended books\n",
        "    if not recommendations.empty:\n",
        "        print(f\"Top {top_n} books in the genre '{genre}':\")\n",
        "        print(recommendations[['Title', 'Author', 'Rating']].to_string(index=False))\n",
        "    else:\n",
        "        print(f\"No books found in the genre '{genre}'.\")\n",
        "\n",
        "# Example\n",
        "recommend_books_by_genre('Fantasy')\n",
        "recommend_books_by_genre('Science Fiction')\n",
        "\n",
        "# Function to recommend books based on user ratings\n",
        "def recommend_books_by_ratings(min_rating=4.5, top_n=5):\n",
        "    # Filter books by the minimum rating\n",
        "    high_rated_books = book_data[book_data['Rating'] >= min_rating]\n",
        "\n",
        "    # Sort the books by rating in descending order\n",
        "    high_rated_books = high_rated_books.sort_values(by='Rating', ascending=False)\n",
        "\n",
        "    # Get the top N books\n",
        "    recommendations = high_rated_books.head(top_n)\n",
        "\n",
        "    # Display the recommended books\n",
        "    if not recommendations.empty:\n",
        "        print(f\"Top {top_n} books with a rating of {min_rating} or higher:\")\n",
        "        print(recommendations[['Title', 'Author', 'Rating']].to_string(index=False))\n",
        "    else:\n",
        "        print(f\"No books found with a rating of {min_rating} or higher.\")\n",
        "\n",
        "# Example\n",
        "recommend_books_by_ratings(4.8)\n",
        "recommend_books_by_ratings(4.7)"
      ]
    },
    {
      "cell_type": "markdown",
      "metadata": {
        "id": "m3stl7GaIIBa"
      },
      "source": [
        "# Membership System (Optional)\n",
        "Add a loyalty program where frequent buyers receive additional discounts."
      ]
    },
    {
      "cell_type": "code",
      "execution_count": 13,
      "metadata": {
        "colab": {
          "base_uri": "https://localhost:8080/"
        },
        "id": "Ksm2A9jbIIBa",
        "outputId": "2510f89b-d5c5-4bea-aa19-dc241404c639"
      },
      "outputs": [
        {
          "name": "stdout",
          "output_type": "stream",
          "text": [
            "Member 'Alice Johnson' added to the loyalty program.\n",
            "Member 'Bob Smith' added to the loyalty program.\n",
            "Updated total purchases for member 'Alice Johnson' to $60.00. Current discount: 5%\n",
            "Updated total purchases for member 'Bob Smith' to $120.00. Current discount: 10%\n",
            "Applied a discount of $3.75 for member 'Alice Johnson'.\n",
            "Total price after member discount: $71.25\n",
            "Applied a discount of $15.00 for member 'Bob Smith'.\n",
            "Total price after member discount: $135.00\n",
            "Member ID          Name             Email  Total Purchases  Discount\n",
            "   M-1001 Alice Johnson alice@example.com               60      0.05\n",
            "   M-1002     Bob Smith   bob@example.com              120      0.10\n"
          ]
        }
      ],
      "source": [
        "memberships = []\n",
        "\n",
        "# Function to add a new member to the loyalty program\n",
        "def add_member(member_id, name, email):\n",
        "    if any(member['Member ID'] == member_id for member in memberships):\n",
        "        print(\"Member ID already exists. Please use a unique Member ID.\")\n",
        "        return\n",
        "\n",
        "    # Add the new member to the memberships list\n",
        "    memberships.append({\n",
        "        'Member ID': member_id,\n",
        "        'Name': name,\n",
        "        'Email': email,\n",
        "        'Total Purchases': 0,\n",
        "        'Discount': 0\n",
        "    })\n",
        "\n",
        "    print(f\"Member '{name}' added to the loyalty program.\")\n",
        "\n",
        "def update_member_purchases(member_id, purchase_amount):\n",
        "    for member in memberships:\n",
        "        if member['Member ID'] == member_id:\n",
        "            member['Total Purchases'] += purchase_amount\n",
        "            if member['Total Purchases'] > 200:\n",
        "                member['Discount'] = 0.15  # 15% discount\n",
        "            elif member['Total Purchases'] > 100:\n",
        "                member['Discount'] = 0.10  # 10% discount\n",
        "            elif member['Total Purchases'] > 50:\n",
        "                member['Discount'] = 0.05  # 5% discount\n",
        "            print(f\"Updated total purchases for member '{member['Name']}' to ${member['Total Purchases']:.2f}. Current discount: {member['Discount']*100:.0f}%\")\n",
        "            return\n",
        "    print(\"Member ID not found. Please check the Member ID and try again.\")\n",
        "\n",
        "def apply_member_discount(member_id, total_price):\n",
        "    for member in memberships:\n",
        "        if member['Member ID'] == member_id:\n",
        "            discount_amount = total_price * member['Discount']\n",
        "            total_price -= discount_amount\n",
        "            print(f\"Applied a discount of ${discount_amount:.2f} for member '{member['Name']}'.\")\n",
        "            return total_price\n",
        "    print(\"Member ID not found. No discount applied.\")\n",
        "    return total_price\n",
        "\n",
        "# Example\n",
        "add_member('M-1001', 'Alice Johnson', 'alice@example.com')\n",
        "add_member('M-1002', 'Bob Smith', 'bob@example.com')\n",
        "\n",
        "# Simulate purchases and apply discounts\n",
        "update_member_purchases('M-1001', 60)\n",
        "update_member_purchases('M-1002', 120)\n",
        "\n",
        "# Calculate total price with member discount\n",
        "total_price = 75  # Example total price\n",
        "total_price = apply_member_discount('M-1001', total_price)\n",
        "print(f\"Total price after member discount: ${total_price:.2f}\")\n",
        "\n",
        "total_price = 150  # Example total price\n",
        "total_price = apply_member_discount('M-1002', total_price)\n",
        "print(f\"Total price after member discount: ${total_price:.2f}\")\n",
        "\n",
        "# View all memberships\n",
        "def view_memberships():\n",
        "    if not memberships:\n",
        "        print(\"No memberships available.\")\n",
        "    else:\n",
        "        memberships_df = pd.DataFrame(memberships)\n",
        "        print(memberships_df.to_string(index=False))\n",
        "\n",
        "# Call the function to view all memberships\n",
        "view_memberships()"
      ]
    },
    {
      "cell_type": "markdown",
      "metadata": {
        "id": "3QMS1ZZhIIBa"
      },
      "source": [
        "# Visualizations (Optional)\n",
        "Use matplotlib to create charts for genre popularity and monthly sales trends."
      ]
    },
    {
      "cell_type": "code",
      "execution_count": 14,
      "metadata": {
        "colab": {
          "base_uri": "https://localhost:8080/",
          "height": 1000
        },
        "id": "FFhJRN_4IIBa",
        "outputId": "49cacf34-2371-4b25-eca8-2682fca4959e"
      },
      "outputs": [
        {
          "data": {
            "image/png": "[encoded data removed]",
            "text/plain": [
              "<Figure size 640x480 with 1 Axes>"
            ]
          },
          "metadata": {},
          "output_type": "display_data"
        },
        {
          "name": "stderr",
          "output_type": "stream",
          "text": [
            "c:\\Users\\ASUS\\AppData\\Local\\Programs\\Python\\Python313\\Lib\\site-packages\\pandas\\plotting\\_matplotlib\\core.py:1567: UserWarning: Attempting to set identical low and high xlims makes transformation singular; automatically expanding.\n",
            "  ax.set_xlim(left, right)\n"
          ]
        },
        {
          "data": {
            "image/png": "[encoded data removed]",
            "text/plain": [
              "<Figure size 640x480 with 1 Axes>"
            ]
          },
          "metadata": {},
          "output_type": "display_data"
        }
      ],
      "source": [
        "def plot_genre_popularity(book_data):\n",
        "    genre_counts = book_data['Genre'].value_counts()\n",
        "    genre_counts.plot(kind='bar', color='skyblue')\n",
        "    plt.title('Genre Popularity')\n",
        "    plt.xlabel('Genre')\n",
        "    plt.ylabel('Number of Books')\n",
        "    plt.show()\n",
        "\n",
        "plot_genre_popularity(book_data)\n",
        "\n",
        "# Function to plot monthly sales trends\n",
        "def plot_monthly_sales_trends(sales_records):\n",
        "    sales_df = pd.DataFrame(sales_records)\n",
        "\n",
        "    sales_df['Date'] = pd.to_datetime(sales_df['Date'])\n",
        "\n",
        "    sales_df['Month'] = sales_df['Date'].dt.to_period('M')\n",
        "\n",
        "    monthly_sales = sales_df.groupby('Month')['Total Price'].sum()\n",
        "\n",
        "    monthly_sales.plot(kind='line', marker='o', color='green')\n",
        "    plt.title('Monthly Sales Trends')\n",
        "    plt.xlabel('Month')\n",
        "    plt.ylabel('Total Sales ($)')\n",
        "    plt.show()\n",
        "\n",
        "# Example\n",
        "plot_monthly_sales_trends(sales_records)"
      ]
    },
    {
      "cell_type": "markdown",
      "metadata": {
        "id": "gObmNczZIIBb"
      },
      "source": [
        "# Error Handling\n",
        "Implement error handling to prevent negative stock or invalid purchases."
      ]
    },
    {
      "cell_type": "code",
      "execution_count": 15,
      "metadata": {
        "colab": {
          "base_uri": "https://localhost:8080/"
        },
        "id": "0TVidMmJIIBb",
        "outputId": "5f9355e3-a69b-4ed8-9663-c2b82bd7c215"
      },
      "outputs": [
        {
          "name": "stdout",
          "output_type": "stream",
          "text": [
            "Requested quantity exceeds available stock. Available stock: 33\n",
            "Stock updated after purchase.\n"
          ]
        }
      ],
      "source": [
        "def add_to_cart_with_error_handling(book_id, quantity):\n",
        "    try:\n",
        "        if book_id not in book_data['Book ID'].values:\n",
        "            raise ValueError(\"Invalid Book ID. Please try again.\")\n",
        "\n",
        "        # Get the book details\n",
        "        book = book_data[book_data['Book ID'] == book_id].iloc[0]\n",
        "\n",
        "        # Check if the requested quantity is available in stock\n",
        "        if quantity > book['Stock']:\n",
        "            raise ValueError(f\"Requested quantity exceeds available stock. Available stock: {book['Stock']}\")\n",
        "\n",
        "        # Add the book to the cart\n",
        "        cart.append({\n",
        "            'Book ID': book_id,\n",
        "            'Title': book['Title'],\n",
        "            'Author': book['Author'],\n",
        "            'Genre': book['Genre'],\n",
        "            'Price': book['Price'],\n",
        "            'Quantity': quantity,\n",
        "            'Total Price': book['Price'] * quantity\n",
        "        })\n",
        "\n",
        "        book_data.loc[book_data['Book ID'] == book_id, 'Stock'] -= quantity\n",
        "\n",
        "        print(f\"Added {quantity} copies of '{book['Title']}' to the cart.\")\n",
        "    except ValueError as e:\n",
        "        print(e)\n",
        "\n",
        "# Example add_to_cart_with_error_handling('BK-1001', 2)\n",
        "add_to_cart_with_error_handling('BK-1031', 50)\n",
        "\n",
        "def update_stock_after_purchase_with_error_handling(cart):\n",
        "    try:\n",
        "        for item in cart:\n",
        "            book_id = item['Book ID']\n",
        "            quantity_purchased = item['Quantity']\n",
        "\n",
        "            if book_data.loc[book_data['Book ID'] == book_id, 'Stock'].values[0] < quantity_purchased:\n",
        "                raise ValueError(f\"Insufficient stock for book ID {book_id}.\")\n",
        "\n",
        "            book_data.loc[book_data['Book ID'] == book_id, 'Stock'] -= quantity_purchased\n",
        "\n",
        "        print(\"Stock updated after purchase.\")\n",
        "    except ValueError as e:\n",
        "        print(e)\n",
        "\n",
        "# Example\n",
        "update_stock_after_purchase_with_error_handling(cart)"
      ]
    },
    {
      "cell_type": "markdown",
      "metadata": {
        "id": "uSB7Gd9aIIBb"
      },
      "source": [
        "# User Interface\n",
        "Create a menu-driven system with options to browse books, add books to the cart, view purchase history, and rate or review purchased books."
      ]
    },
    {
      "cell_type": "code",
      "execution_count": 16,
      "metadata": {
        "colab": {
          "base_uri": "https://localhost:8080/",
          "height": 1000
        },
        "id": "VRYyi0j1IIBb",
        "outputId": "adc7bd03-fbe2-41f9-cc9d-a83276f3a27e"
      },
      "outputs": [
        {
          "name": "stdout",
          "output_type": "stream",
          "text": [
            "\n",
            "=== Book Store Management System ===\n",
            "1. View Available Books\n",
            "2. Search Books\n",
            "3. Add Book to Cart\n",
            "4. View Cart\n",
            "5. Checkout\n",
            "6. Rate and Review Books\n",
            "7. View Sales Reports\n",
            "8. Exit\n",
            "\n",
            "Invalid choice! Please try again.\n",
            "\n",
            "=== Book Store Management System ===\n",
            "1. View Available Books\n",
            "2. Search Books\n",
            "3. Add Book to Cart\n",
            "4. View Cart\n",
            "5. Checkout\n",
            "6. Rate and Review Books\n",
            "7. View Sales Reports\n",
            "8. Exit\n",
            "\n",
            "Invalid choice! Please try again.\n",
            "\n",
            "=== Book Store Management System ===\n",
            "1. View Available Books\n",
            "2. Search Books\n",
            "3. Add Book to Cart\n",
            "4. View Cart\n",
            "5. Checkout\n",
            "6. Rate and Review Books\n",
            "7. View Sales Reports\n",
            "8. Exit\n",
            "\n",
            "Invalid choice! Please try again.\n",
            "\n",
            "=== Book Store Management System ===\n",
            "1. View Available Books\n",
            "2. Search Books\n",
            "3. Add Book to Cart\n",
            "4. View Cart\n",
            "5. Checkout\n",
            "6. Rate and Review Books\n",
            "7. View Sales Reports\n",
            "8. Exit\n",
            "\n",
            "Thank you for using the Book Store Management System!\n"
          ]
        }
      ],
      "source": [
        "def display_menu():\n",
        "    print(\"\\n=== Book Store Management System ===\")\n",
        "    print(\"1. View Available Books\")\n",
        "    print(\"2. Search Books\")\n",
        "    print(\"3. Add Book to Cart\")\n",
        "    print(\"4. View Cart\")\n",
        "    print(\"5. Checkout\")\n",
        "    print(\"6. Rate and Review Books\")\n",
        "    print(\"7. View Sales Reports\")\n",
        "    print(\"8. Exit\")\n",
        "    return input(\"Enter your choice (1-8): \")\n",
        "\n",
        "def main():\n",
        "    while True:\n",
        "        choice = display_menu()\n",
        "\n",
        "        if choice == '1':\n",
        "            # View Available Books\n",
        "            print(\"\\n=== Available Books ===\")\n",
        "            view_available_books()\n",
        "\n",
        "        elif choice == '2':\n",
        "            # Search Books\n",
        "            print(\"\\n=== Search Books ===\")\n",
        "            print(\"1. Search by Title\")\n",
        "            print(\"2. Search by Author\")\n",
        "            print(\"3. Search by Genre\")\n",
        "            print(\"4. Search by Rating\")\n",
        "            search_choice = input(\"Enter your choice (1-4): \")\n",
        "\n",
        "            search_value = input(\"Enter search value: \")\n",
        "            if search_choice == '1':\n",
        "                search_books('Title', search_value)\n",
        "            elif search_choice == '2':\n",
        "                search_books('Author', search_value)\n",
        "            elif search_choice == '3':\n",
        "                search_books('Genre', search_value)\n",
        "            elif search_choice == '4':\n",
        "                search_books('Rating', search_value)\n",
        "\n",
        "        elif choice == '3':\n",
        "            # Add Book to Cart\n",
        "            print(\"\\n=== Add Book to Cart ===\")\n",
        "            book_id = input(\"Enter Book ID: \")\n",
        "            quantity = int(input(\"Enter quantity: \"))\n",
        "            add_to_cart(book_id, quantity)\n",
        "\n",
        "        elif choice == '4':\n",
        "            # View Cart\n",
        "            print(\"\\n=== Shopping Cart ===\")\n",
        "            view_cart()\n",
        "\n",
        "        elif choice == '5':\n",
        "            # Checkout\n",
        "            print(\"\\n=== Checkout ===\")\n",
        "            if cart:\n",
        "                total_price = calculate_total_price(cart)\n",
        "                print(\"\\nGenerating receipt...\")\n",
        "                generate_receipt(cart, total_price)\n",
        "                update_stock_after_purchase(cart)\n",
        "                track_total_sales(cart, total_price)\n",
        "                cart.clear()\n",
        "            else:\n",
        "                print(\"Your cart is empty!\")\n",
        "\n",
        "        elif choice == '6':\n",
        "            # Rate and Review Books\n",
        "            print(\"\\n=== Rate and Review Books ===\")\n",
        "            book_id = input(\"Enter Book ID: \")\n",
        "            rating = float(input(\"Enter rating (1-5): \"))\n",
        "            review = input(\"Enter your review: \")\n",
        "            rate_and_review(book_id, rating, review)\n",
        "\n",
        "        elif choice == '7':\n",
        "            # View Sales Reports\n",
        "            print(\"\\n=== Sales Reports ===\")\n",
        "            print(\"1. Most Sold Books\")\n",
        "            print(\"2. Genre Analysis\")\n",
        "            report_choice = input(\"Enter your choice (1-2): \")\n",
        "\n",
        "            if report_choice == '1':\n",
        "                # Display top 10 books by negative stock (indicating sales)\n",
        "                sold_books = book_data.copy()\n",
        "                sold_books['Sold'] = sold_books['Stock'].apply(lambda x: abs(x) if x < 0 else 0)\n",
        "                top_sold = sold_books.nlargest(10, 'Sold')[['Title', 'Sold']]\n",
        "                plt.figure(figsize=(12, 6))\n",
        "                plt.bar(top_sold['Title'], top_sold['Sold'])\n",
        "                plt.xticks(rotation=45, ha='right')\n",
        "                plt.title('Top 10 Most Sold Books')\n",
        "                plt.xlabel('Book Title')\n",
        "                plt.ylabel('Number of Books Sold')\n",
        "                plt.tight_layout()\n",
        "                plt.show()\n",
        "\n",
        "            elif report_choice == '2':\n",
        "                # Display sales by genre\n",
        "                genre_sales = book_data.groupby('Genre')['Stock'].sum()\n",
        "                plt.figure(figsize=(10, 6))\n",
        "                genre_sales.plot(kind='pie', autopct='%1.1f%%')\n",
        "                plt.title('Sales Distribution by Genre')\n",
        "                plt.axis('equal')\n",
        "                plt.show()\n",
        "\n",
        "        elif choice == '8':\n",
        "            # Exit\n",
        "            print(\"\\nThank you for using the Book Store Management System!\")\n",
        "            break\n",
        "\n",
        "        else:\n",
        "            print(\"\\nInvalid choice! Please try again.\")\n",
        "\n",
        "        input(\"\\nPress Enter to continue...\")\n",
        "\n",
        "# Run the main program\n",
        "if __name__ == \"__main__\":\n",
        "    main()"
      ]
    }
  ],
  "metadata": {
    "colab": {
      "provenance": []
    },
    "kernelspec": {
      "display_name": "Python 3",
      "language": "python",
      "name": "python3"
    },
    "language_info": {
      "codemirror_mode": {
        "name": "ipython",
        "version": 3
      },
      "file_extension": ".py",
      "mimetype": "text/x-python",
      "name": "python",
      "nbconvert_exporter": "python",
      "pygments_lexer": "ipython3",
      "version": "3.13.1"
    }
  },
  "nbformat": 4,
  "nbformat_minor": 0
}
